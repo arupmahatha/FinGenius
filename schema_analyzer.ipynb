{
 "cells": [
  {
   "cell_type": "code",
   "execution_count": 1,
   "metadata": {},
   "outputs": [],
   "source": [
    "import pandas as pd\n",
    "import os\n",
    "\n",
    "def analyze_csv_schema(csv_file):\n",
    "    \"\"\"Analyze the schema of a CSV file and return SQL-like schema information\"\"\"\n",
    "    try:\n",
    "        # Read the CSV file\n",
    "        df = pd.read_csv(csv_file)\n",
    "        \n",
    "        # Get column info\n",
    "        schema_info = []\n",
    "        for column in df.dtypes.items():\n",
    "            col_name = column[0]\n",
    "            # Map pandas dtypes to SQL-like types\n",
    "            if 'int' in str(column[1]):\n",
    "                sql_type = 'INTEGER'\n",
    "            elif 'float' in str(column[1]):\n",
    "                sql_type = 'FLOAT'\n",
    "            elif 'datetime' in str(column[1]):\n",
    "                sql_type = 'DATETIME'\n",
    "            elif 'bool' in str(column[1]):\n",
    "                sql_type = 'BOOLEAN'\n",
    "            else:\n",
    "                sql_type = 'VARCHAR'\n",
    "            \n",
    "            # Check if column has any null values\n",
    "            nullable = 'NULL' if df[col_name].isnull().any() else 'NOT NULL'\n",
    "            \n",
    "            schema_info.append(f\"{col_name} {sql_type} {nullable}\")\n",
    "        \n",
    "        # Format schema output\n",
    "        table_name = os.path.splitext(os.path.basename(csv_file))[0].upper()\n",
    "        schema = f\"CREATE TABLE {table_name} (\\n    \" + \",\\n    \".join(schema_info) + \"\\n);\"\n",
    "        \n",
    "        return schema\n",
    "    \n",
    "    except Exception as e:\n",
    "        return f\"Error analyzing schema: {str(e)}\""
   ]
  },
  {
   "cell_type": "code",
   "execution_count": 2,
   "metadata": {},
   "outputs": [
    {
     "name": "stdout",
     "output_type": "stream",
     "text": [
      "CREATE TABLE FINAL_FORECAST_SHEET (\n",
      "    id INTEGER NOT NULL,\n",
      "    DC_FC_Assets_Type VARCHAR NULL,\n",
      "    DC_FC_Assets_Name VARCHAR NOT NULL,\n",
      "    SQL_FC_Account_ID VARCHAR NOT NULL,\n",
      "    SQL_Heading_Sequence INTEGER NOT NULL,\n",
      "    SQL_Sequence FLOAT NOT NULL,\n",
      "    SQL_Account_Name_Code VARCHAR NOT NULL,\n",
      "    SQL_Account_Name VARCHAR NOT NULL,\n",
      "    SQL_Account_Category_Order_Code VARCHAR NOT NULL,\n",
      "    SQL_Account_Category_Order VARCHAR NOT NULL,\n",
      "    SUB_Account_Category_Order_Code VARCHAR NULL,\n",
      "    SUB_Account_Category_Order VARCHAR NULL,\n",
      "    SQL_Account_Group_Name_Code FLOAT NULL,\n",
      "    SQL_Account_Group_Name FLOAT NULL,\n",
      "    Accountnumber_ID VARCHAR NOT NULL,\n",
      "    January FLOAT NOT NULL,\n",
      "    February FLOAT NOT NULL,\n",
      "    March FLOAT NOT NULL,\n",
      "    April FLOAT NOT NULL,\n",
      "    May FLOAT NOT NULL,\n",
      "    June FLOAT NOT NULL,\n",
      "    July FLOAT NULL,\n",
      "    August FLOAT NULL,\n",
      "    September FLOAT NULL,\n",
      "    October FLOAT NULL,\n",
      "    November FLOAT NULL,\n",
      "    December FLOAT NULL,\n",
      "    Total FLOAT NULL,\n",
      "    Account_Year INTEGER NOT NULL,\n",
      "    SQL_Property VARCHAR NOT NULL,\n",
      "    updated_at VARCHAR NOT NULL\n",
      ");\n"
     ]
    }
   ],
   "source": [
    "# Example usage:\n",
    "schema = analyze_csv_schema('final_forecast_sheet.csv')\n",
    "print(schema)"
   ]
  }
 ],
 "metadata": {
  "kernelspec": {
   "display_name": "Python 3",
   "language": "python",
   "name": "python3"
  },
  "language_info": {
   "codemirror_mode": {
    "name": "ipython",
    "version": 3
   },
   "file_extension": ".py",
   "mimetype": "text/x-python",
   "name": "python",
   "nbconvert_exporter": "python",
   "pygments_lexer": "ipython3",
   "version": "3.12.0"
  }
 },
 "nbformat": 4,
 "nbformat_minor": 2
}
