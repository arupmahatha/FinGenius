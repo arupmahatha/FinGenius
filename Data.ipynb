{
 "cells": [
  {
   "cell_type": "code",
   "execution_count": 1,
   "metadata": {},
   "outputs": [
    {
     "name": "stderr",
     "output_type": "stream",
     "text": [
      "[*********************100%***********************]  1 of 1 completed"
     ]
    },
    {
     "name": "stdout",
     "output_type": "stream",
     "text": [
      "Tesla data from 2023-12-18 to 2024-12-17 has been saved to tesla_last_year_data.csv.\n"
     ]
    },
    {
     "name": "stderr",
     "output_type": "stream",
     "text": [
      "\n"
     ]
    }
   ],
   "source": [
    "import yfinance as yf\n",
    "import datetime\n",
    "import pandas as pd\n",
    "\n",
    "def download_tesla_data():\n",
    "    # Define the ticker symbol and the date range\n",
    "    ticker_symbol = 'TSLA'\n",
    "    end_date = datetime.date.today()\n",
    "    start_date = end_date - datetime.timedelta(days=365)\n",
    "\n",
    "    # Download the data using yfinance\n",
    "    tesla_data = yf.download(ticker_symbol, start=start_date, end=end_date)\n",
    "\n",
    "    # Save the data to a CSV file\n",
    "    csv_filename = 'tesla_last_year_data.csv'\n",
    "    tesla_data.to_csv(csv_filename)\n",
    "\n",
    "    print(f\"Tesla data from {start_date} to {end_date} has been saved to {csv_filename}.\")\n",
    "\n",
    "if __name__ == \"__main__\":\n",
    "    download_tesla_data()\n"
   ]
  },
  {
   "cell_type": "code",
   "execution_count": null,
   "metadata": {},
   "outputs": [],
   "source": []
  }
 ],
 "metadata": {
  "kernelspec": {
   "display_name": "Python 3",
   "language": "python",
   "name": "python3"
  },
  "language_info": {
   "codemirror_mode": {
    "name": "ipython",
    "version": 3
   },
   "file_extension": ".py",
   "mimetype": "text/x-python",
   "name": "python",
   "nbconvert_exporter": "python",
   "pygments_lexer": "ipython3",
   "version": "3.12.0"
  }
 },
 "nbformat": 4,
 "nbformat_minor": 2
}
